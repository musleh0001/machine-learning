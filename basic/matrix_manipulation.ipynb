{
 "cells": [
  {
   "cell_type": "markdown",
   "id": "a4eb74e1",
   "metadata": {},
   "source": [
    "<div align=\"center\">\n",
    "    <h1>Matrix Manipulation</h1>\n",
    "</div>"
   ]
  },
  {
   "cell_type": "code",
   "execution_count": 1,
   "id": "5a2c2fc7",
   "metadata": {},
   "outputs": [],
   "source": [
    "import numpy as np"
   ]
  },
  {
   "cell_type": "markdown",
   "id": "41a757c7",
   "metadata": {},
   "source": [
    "## Add two matrices"
   ]
  },
  {
   "cell_type": "code",
   "execution_count": 2,
   "id": "d7c077d0",
   "metadata": {},
   "outputs": [
    {
     "data": {
      "text/plain": [
       "array([[10, 10, 10],\n",
       "       [10, 10, 10],\n",
       "       [10, 10, 10]])"
      ]
     },
     "execution_count": 2,
     "metadata": {},
     "output_type": "execute_result"
    }
   ],
   "source": [
    "X = [[1,2,3],\n",
    "    [4 ,5,6],\n",
    "    [7 ,8,9]]\n",
    " \n",
    "Y = [[9,8,7],\n",
    "    [6,5,4],\n",
    "    [3,2,1]]\n",
    "\n",
    "result = np.array(X) + np.array(Y)\n",
    "result"
   ]
  },
  {
   "cell_type": "markdown",
   "id": "b11cb53e",
   "metadata": {},
   "source": [
    "## Multiply two matrices"
   ]
  },
  {
   "cell_type": "code",
   "execution_count": 4,
   "id": "5b99ce33",
   "metadata": {},
   "outputs": [
    {
     "data": {
      "text/plain": [
       "array([[114, 160,  60,  27],\n",
       "       [ 74,  97,  73,  14],\n",
       "       [119, 157, 112,  23]])"
      ]
     },
     "execution_count": 4,
     "metadata": {},
     "output_type": "execute_result"
    }
   ],
   "source": [
    "A = [[12, 7, 3],\n",
    "    [4, 5, 6],\n",
    "    [7, 8, 9]]\n",
    " \n",
    "# take a 3x4 matrix   \n",
    "B = [[5, 8, 1, 2],\n",
    "    [6, 7, 3, 0],\n",
    "    [4, 5, 9, 1]]\n",
    "\n",
    "result = np.dot(A, B)\n",
    "result"
   ]
  },
  {
   "cell_type": "code",
   "execution_count": 9,
   "id": "662d1043",
   "metadata": {},
   "outputs": [
    {
     "name": "stdout",
     "output_type": "stream",
     "text": [
      "Addition: \n",
      "[[ 8 10]\n",
      " [13 15]]\n",
      "\n",
      "Subtraction: \n",
      "[[-6 -6]\n",
      " [-5 -5]]\n",
      "\n",
      "Division: \n",
      "[[0.14285714 0.25      ]\n",
      " [0.44444444 0.5       ]]\n",
      "\n",
      "Sum of column: \n",
      "[16 18]\n",
      "\n",
      "Sum of row: \n",
      "[15 19]\n",
      "\n",
      "Transpose matrix: \n",
      "[[1 4]\n",
      " [2 5]]\n",
      "\n"
     ]
    }
   ],
   "source": [
    "x = np.array([[1, 2], [4, 5]])\n",
    "y = np.array([[7, 8], [9, 10]])\n",
    "\n",
    "print(\"Addition: \")\n",
    "print(np.add(x, y))\n",
    "print()\n",
    "\n",
    "print(\"Subtraction: \")\n",
    "print(np.subtract(x, y))\n",
    "print()\n",
    "\n",
    "print(\"Division: \")\n",
    "print(np.divide(x, y))\n",
    "print()\n",
    "\n",
    "print(\"Sum of column: \")\n",
    "print(np.sum(y, axis=0))\n",
    "print()\n",
    "\n",
    "print(\"Sum of row: \")\n",
    "print(np.sum(y, axis=1))\n",
    "print()\n",
    "\n",
    "print(\"Transpose matrix: \")\n",
    "print(x.T)\n",
    "print()"
   ]
  },
  {
   "cell_type": "markdown",
   "id": "ebf7d7ad",
   "metadata": {},
   "source": [
    "## Inverse Matrix"
   ]
  },
  {
   "cell_type": "code",
   "execution_count": 10,
   "id": "61a61f0f",
   "metadata": {},
   "outputs": [
    {
     "name": "stdout",
     "output_type": "stream",
     "text": [
      "[[-1.5   0.5 ]\n",
      " [ 1.25 -0.25]]\n"
     ]
    }
   ],
   "source": [
    "arr = np.array([[1, 2], [5, 6]])\n",
    "print(np.linalg.inv(arr))"
   ]
  },
  {
   "cell_type": "code",
   "execution_count": 11,
   "id": "bd21a7ee",
   "metadata": {},
   "outputs": [
    {
     "name": "stdout",
     "output_type": "stream",
     "text": [
      "15\n"
     ]
    }
   ],
   "source": [
    "# Trace of a matrix\n",
    "mat = [[1, 1, 1, 1, 1],\n",
    "       [2, 2, 2, 2, 2],\n",
    "       [3, 3, 3, 3, 3],\n",
    "       [4, 4, 4, 4, 4],\n",
    "       [5, 5, 5, 5, 5]]\n",
    "\n",
    "print(np.trace(mat))"
   ]
  },
  {
   "cell_type": "code",
   "execution_count": 12,
   "id": "6361e54e",
   "metadata": {},
   "outputs": [
    {
     "name": "stdout",
     "output_type": "stream",
     "text": [
      "16.881943016134134\n"
     ]
    }
   ],
   "source": [
    "# Euclidean norm\n",
    "matrix = np.array([[1, 2, 3],\n",
    "                   [4, 5, 6],\n",
    "                   [7, 8, 9]])\n",
    "\n",
    "# Calculate the Euclidean norm\n",
    "print(np.linalg.norm(matrix))"
   ]
  },
  {
   "cell_type": "code",
   "execution_count": 13,
   "id": "187390ad",
   "metadata": {},
   "outputs": [
    {
     "name": "stdout",
     "output_type": "stream",
     "text": [
      "16.881943016134134\n"
     ]
    }
   ],
   "source": [
    "# Frobenius norm\n",
    "matrix = np.array([[1, 2, 3],\n",
    "                   [4, 5, 6],\n",
    "                   [7, 8, 9]])\n",
    "\n",
    "# Calculate the Euclidean norm\n",
    "print(np.linalg.norm(matrix, ord='fro'))"
   ]
  },
  {
   "cell_type": "code",
   "execution_count": null,
   "id": "d26e7edb",
   "metadata": {},
   "outputs": [],
   "source": []
  }
 ],
 "metadata": {
  "kernelspec": {
   "display_name": "Python 3 (ipykernel)",
   "language": "python",
   "name": "python3"
  },
  "language_info": {
   "codemirror_mode": {
    "name": "ipython",
    "version": 3
   },
   "file_extension": ".py",
   "mimetype": "text/x-python",
   "name": "python",
   "nbconvert_exporter": "python",
   "pygments_lexer": "ipython3",
   "version": "3.10.6"
  }
 },
 "nbformat": 4,
 "nbformat_minor": 5
}
